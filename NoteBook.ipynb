{
 "cells": [
  {
   "cell_type": "markdown",
   "metadata": {},
   "source": [
    "# libraries\n"
   ]
  },
  {
   "cell_type": "code",
   "execution_count": 49,
   "metadata": {},
   "outputs": [],
   "source": [
    "import pandas as pd\n",
    "import numpy as np\n",
    "import seaborn as sns\n",
    "import matplotlib.pyplot as plt\n",
    "from sklearn.model_selection import train_test_split\n",
    "from sklearn.linear_model import LogisticRegression\n",
    "import pickle\n",
    "from sklearn.linear_model import LogisticRegression\n",
    "from sklearn.ensemble import RandomForestClassifier\n",
    "from sklearn.neighbors import KNeighborsClassifier\n",
    "from sklearn.naive_bayes import GaussianNB\n",
    "from sklearn import model_selection\n",
    "from sklearn.svm import SVC\n",
    "import joblib"
   ]
  },
  {
   "cell_type": "markdown",
   "metadata": {},
   "source": [
    "# Define data and summerixe it\n"
   ]
  },
  {
   "cell_type": "code",
   "execution_count": 50,
   "metadata": {},
   "outputs": [],
   "source": [
    "df=pd.read_csv('data\\Blood data.csv')\n"
   ]
  },
  {
   "cell_type": "code",
   "execution_count": 51,
   "metadata": {},
   "outputs": [
    {
     "data": {
      "text/html": [
       "<div>\n",
       "<style scoped>\n",
       "    .dataframe tbody tr th:only-of-type {\n",
       "        vertical-align: middle;\n",
       "    }\n",
       "\n",
       "    .dataframe tbody tr th {\n",
       "        vertical-align: top;\n",
       "    }\n",
       "\n",
       "    .dataframe thead th {\n",
       "        text-align: right;\n",
       "    }\n",
       "</style>\n",
       "<table border=\"1\" class=\"dataframe\">\n",
       "  <thead>\n",
       "    <tr style=\"text-align: right;\">\n",
       "      <th></th>\n",
       "      <th>Patient_Number</th>\n",
       "      <th>Level_of_Hemoglobin</th>\n",
       "      <th>Genetic_Pedigree_Coefficient</th>\n",
       "      <th>Age</th>\n",
       "      <th>BMI</th>\n",
       "      <th>Sex</th>\n",
       "      <th>Pregnancy</th>\n",
       "      <th>Smoking</th>\n",
       "      <th>Physical_activity</th>\n",
       "      <th>salt_content_in_the_diet</th>\n",
       "      <th>alcohol_consumption_per_day</th>\n",
       "      <th>Level_of_Stress</th>\n",
       "      <th>Chronic_kidney_disease</th>\n",
       "      <th>Adrenal_and_thyroid_disorders</th>\n",
       "      <th>donate</th>\n",
       "    </tr>\n",
       "  </thead>\n",
       "  <tbody>\n",
       "    <tr>\n",
       "      <th>0</th>\n",
       "      <td>1</td>\n",
       "      <td>11.28</td>\n",
       "      <td>0.90</td>\n",
       "      <td>34</td>\n",
       "      <td>23</td>\n",
       "      <td>1</td>\n",
       "      <td>1.0</td>\n",
       "      <td>0</td>\n",
       "      <td>45961</td>\n",
       "      <td>48071</td>\n",
       "      <td>NaN</td>\n",
       "      <td>2</td>\n",
       "      <td>1</td>\n",
       "      <td>1</td>\n",
       "      <td>1</td>\n",
       "    </tr>\n",
       "    <tr>\n",
       "      <th>1</th>\n",
       "      <td>3</td>\n",
       "      <td>10.79</td>\n",
       "      <td>0.91</td>\n",
       "      <td>70</td>\n",
       "      <td>49</td>\n",
       "      <td>0</td>\n",
       "      <td>NaN</td>\n",
       "      <td>0</td>\n",
       "      <td>9995</td>\n",
       "      <td>29465</td>\n",
       "      <td>67.0</td>\n",
       "      <td>2</td>\n",
       "      <td>1</td>\n",
       "      <td>0</td>\n",
       "      <td>1</td>\n",
       "    </tr>\n",
       "    <tr>\n",
       "      <th>2</th>\n",
       "      <td>5</td>\n",
       "      <td>14.17</td>\n",
       "      <td>0.83</td>\n",
       "      <td>52</td>\n",
       "      <td>19</td>\n",
       "      <td>0</td>\n",
       "      <td>NaN</td>\n",
       "      <td>0</td>\n",
       "      <td>15619</td>\n",
       "      <td>49644</td>\n",
       "      <td>397.0</td>\n",
       "      <td>2</td>\n",
       "      <td>0</td>\n",
       "      <td>0</td>\n",
       "      <td>1</td>\n",
       "    </tr>\n",
       "    <tr>\n",
       "      <th>3</th>\n",
       "      <td>7</td>\n",
       "      <td>11.69</td>\n",
       "      <td>0.75</td>\n",
       "      <td>43</td>\n",
       "      <td>41</td>\n",
       "      <td>1</td>\n",
       "      <td>1.0</td>\n",
       "      <td>0</td>\n",
       "      <td>38369</td>\n",
       "      <td>32967</td>\n",
       "      <td>206.0</td>\n",
       "      <td>3</td>\n",
       "      <td>1</td>\n",
       "      <td>1</td>\n",
       "      <td>1</td>\n",
       "    </tr>\n",
       "    <tr>\n",
       "      <th>4</th>\n",
       "      <td>10</td>\n",
       "      <td>14.56</td>\n",
       "      <td>0.61</td>\n",
       "      <td>40</td>\n",
       "      <td>44</td>\n",
       "      <td>0</td>\n",
       "      <td>NaN</td>\n",
       "      <td>0</td>\n",
       "      <td>1278</td>\n",
       "      <td>12715</td>\n",
       "      <td>95.0</td>\n",
       "      <td>2</td>\n",
       "      <td>0</td>\n",
       "      <td>0</td>\n",
       "      <td>1</td>\n",
       "    </tr>\n",
       "  </tbody>\n",
       "</table>\n",
       "</div>"
      ],
      "text/plain": [
       "   Patient_Number  Level_of_Hemoglobin  Genetic_Pedigree_Coefficient  Age  \\\n",
       "0               1                11.28                          0.90   34   \n",
       "1               3                10.79                          0.91   70   \n",
       "2               5                14.17                          0.83   52   \n",
       "3               7                11.69                          0.75   43   \n",
       "4              10                14.56                          0.61   40   \n",
       "\n",
       "   BMI  Sex  Pregnancy  Smoking  Physical_activity  salt_content_in_the_diet  \\\n",
       "0   23    1        1.0        0              45961                     48071   \n",
       "1   49    0        NaN        0               9995                     29465   \n",
       "2   19    0        NaN        0              15619                     49644   \n",
       "3   41    1        1.0        0              38369                     32967   \n",
       "4   44    0        NaN        0               1278                     12715   \n",
       "\n",
       "   alcohol_consumption_per_day  Level_of_Stress  Chronic_kidney_disease  \\\n",
       "0                          NaN                2                       1   \n",
       "1                         67.0                2                       1   \n",
       "2                        397.0                2                       0   \n",
       "3                        206.0                3                       1   \n",
       "4                         95.0                2                       0   \n",
       "\n",
       "   Adrenal_and_thyroid_disorders  donate  \n",
       "0                              1       1  \n",
       "1                              0       1  \n",
       "2                              0       1  \n",
       "3                              1       1  \n",
       "4                              0       1  "
      ]
     },
     "execution_count": 51,
     "metadata": {},
     "output_type": "execute_result"
    }
   ],
   "source": [
    "df.head()"
   ]
  },
  {
   "cell_type": "code",
   "execution_count": 52,
   "metadata": {},
   "outputs": [
    {
     "data": {
      "text/plain": [
       "(2000, 15)"
      ]
     },
     "execution_count": 52,
     "metadata": {},
     "output_type": "execute_result"
    }
   ],
   "source": [
    "df.shape"
   ]
  },
  {
   "cell_type": "code",
   "execution_count": 53,
   "metadata": {},
   "outputs": [
    {
     "data": {
      "text/html": [
       "<div>\n",
       "<style scoped>\n",
       "    .dataframe tbody tr th:only-of-type {\n",
       "        vertical-align: middle;\n",
       "    }\n",
       "\n",
       "    .dataframe tbody tr th {\n",
       "        vertical-align: top;\n",
       "    }\n",
       "\n",
       "    .dataframe thead th {\n",
       "        text-align: right;\n",
       "    }\n",
       "</style>\n",
       "<table border=\"1\" class=\"dataframe\">\n",
       "  <thead>\n",
       "    <tr style=\"text-align: right;\">\n",
       "      <th></th>\n",
       "      <th>Patient_Number</th>\n",
       "      <th>Level_of_Hemoglobin</th>\n",
       "      <th>Genetic_Pedigree_Coefficient</th>\n",
       "      <th>Age</th>\n",
       "      <th>BMI</th>\n",
       "      <th>Sex</th>\n",
       "      <th>Pregnancy</th>\n",
       "      <th>Smoking</th>\n",
       "      <th>Physical_activity</th>\n",
       "      <th>salt_content_in_the_diet</th>\n",
       "      <th>alcohol_consumption_per_day</th>\n",
       "      <th>Level_of_Stress</th>\n",
       "      <th>Chronic_kidney_disease</th>\n",
       "      <th>Adrenal_and_thyroid_disorders</th>\n",
       "      <th>donate</th>\n",
       "    </tr>\n",
       "  </thead>\n",
       "  <tbody>\n",
       "    <tr>\n",
       "      <th>0</th>\n",
       "      <td>1</td>\n",
       "      <td>11.28</td>\n",
       "      <td>0.90</td>\n",
       "      <td>34</td>\n",
       "      <td>23</td>\n",
       "      <td>1</td>\n",
       "      <td>1.0</td>\n",
       "      <td>0</td>\n",
       "      <td>45961</td>\n",
       "      <td>48071</td>\n",
       "      <td>NaN</td>\n",
       "      <td>2</td>\n",
       "      <td>1</td>\n",
       "      <td>1</td>\n",
       "      <td>1</td>\n",
       "    </tr>\n",
       "    <tr>\n",
       "      <th>1</th>\n",
       "      <td>3</td>\n",
       "      <td>10.79</td>\n",
       "      <td>0.91</td>\n",
       "      <td>70</td>\n",
       "      <td>49</td>\n",
       "      <td>0</td>\n",
       "      <td>NaN</td>\n",
       "      <td>0</td>\n",
       "      <td>9995</td>\n",
       "      <td>29465</td>\n",
       "      <td>67.0</td>\n",
       "      <td>2</td>\n",
       "      <td>1</td>\n",
       "      <td>0</td>\n",
       "      <td>1</td>\n",
       "    </tr>\n",
       "    <tr>\n",
       "      <th>2</th>\n",
       "      <td>5</td>\n",
       "      <td>14.17</td>\n",
       "      <td>0.83</td>\n",
       "      <td>52</td>\n",
       "      <td>19</td>\n",
       "      <td>0</td>\n",
       "      <td>NaN</td>\n",
       "      <td>0</td>\n",
       "      <td>15619</td>\n",
       "      <td>49644</td>\n",
       "      <td>397.0</td>\n",
       "      <td>2</td>\n",
       "      <td>0</td>\n",
       "      <td>0</td>\n",
       "      <td>1</td>\n",
       "    </tr>\n",
       "    <tr>\n",
       "      <th>3</th>\n",
       "      <td>7</td>\n",
       "      <td>11.69</td>\n",
       "      <td>0.75</td>\n",
       "      <td>43</td>\n",
       "      <td>41</td>\n",
       "      <td>1</td>\n",
       "      <td>1.0</td>\n",
       "      <td>0</td>\n",
       "      <td>38369</td>\n",
       "      <td>32967</td>\n",
       "      <td>206.0</td>\n",
       "      <td>3</td>\n",
       "      <td>1</td>\n",
       "      <td>1</td>\n",
       "      <td>1</td>\n",
       "    </tr>\n",
       "    <tr>\n",
       "      <th>4</th>\n",
       "      <td>10</td>\n",
       "      <td>14.56</td>\n",
       "      <td>0.61</td>\n",
       "      <td>40</td>\n",
       "      <td>44</td>\n",
       "      <td>0</td>\n",
       "      <td>NaN</td>\n",
       "      <td>0</td>\n",
       "      <td>1278</td>\n",
       "      <td>12715</td>\n",
       "      <td>95.0</td>\n",
       "      <td>2</td>\n",
       "      <td>0</td>\n",
       "      <td>0</td>\n",
       "      <td>1</td>\n",
       "    </tr>\n",
       "    <tr>\n",
       "      <th>5</th>\n",
       "      <td>11</td>\n",
       "      <td>8.58</td>\n",
       "      <td>0.13</td>\n",
       "      <td>70</td>\n",
       "      <td>28</td>\n",
       "      <td>1</td>\n",
       "      <td>NaN</td>\n",
       "      <td>0</td>\n",
       "      <td>48527</td>\n",
       "      <td>26178</td>\n",
       "      <td>46.0</td>\n",
       "      <td>1</td>\n",
       "      <td>1</td>\n",
       "      <td>1</td>\n",
       "      <td>1</td>\n",
       "    </tr>\n",
       "    <tr>\n",
       "      <th>6</th>\n",
       "      <td>12</td>\n",
       "      <td>12.77</td>\n",
       "      <td>0.10</td>\n",
       "      <td>35</td>\n",
       "      <td>17</td>\n",
       "      <td>0</td>\n",
       "      <td>NaN</td>\n",
       "      <td>0</td>\n",
       "      <td>22500</td>\n",
       "      <td>43040</td>\n",
       "      <td>382.0</td>\n",
       "      <td>3</td>\n",
       "      <td>1</td>\n",
       "      <td>0</td>\n",
       "      <td>1</td>\n",
       "    </tr>\n",
       "    <tr>\n",
       "      <th>7</th>\n",
       "      <td>13</td>\n",
       "      <td>16.40</td>\n",
       "      <td>0.45</td>\n",
       "      <td>31</td>\n",
       "      <td>50</td>\n",
       "      <td>0</td>\n",
       "      <td>NaN</td>\n",
       "      <td>1</td>\n",
       "      <td>25639</td>\n",
       "      <td>46997</td>\n",
       "      <td>41.0</td>\n",
       "      <td>3</td>\n",
       "      <td>0</td>\n",
       "      <td>1</td>\n",
       "      <td>1</td>\n",
       "    </tr>\n",
       "    <tr>\n",
       "      <th>8</th>\n",
       "      <td>16</td>\n",
       "      <td>10.96</td>\n",
       "      <td>0.10</td>\n",
       "      <td>43</td>\n",
       "      <td>27</td>\n",
       "      <td>1</td>\n",
       "      <td>1.0</td>\n",
       "      <td>0</td>\n",
       "      <td>7329</td>\n",
       "      <td>39018</td>\n",
       "      <td>495.0</td>\n",
       "      <td>1</td>\n",
       "      <td>1</td>\n",
       "      <td>0</td>\n",
       "      <td>1</td>\n",
       "    </tr>\n",
       "    <tr>\n",
       "      <th>9</th>\n",
       "      <td>17</td>\n",
       "      <td>11.98</td>\n",
       "      <td>0.06</td>\n",
       "      <td>65</td>\n",
       "      <td>28</td>\n",
       "      <td>1</td>\n",
       "      <td>NaN</td>\n",
       "      <td>0</td>\n",
       "      <td>29834</td>\n",
       "      <td>45217</td>\n",
       "      <td>377.0</td>\n",
       "      <td>2</td>\n",
       "      <td>0</td>\n",
       "      <td>0</td>\n",
       "      <td>1</td>\n",
       "    </tr>\n",
       "    <tr>\n",
       "      <th>10</th>\n",
       "      <td>18</td>\n",
       "      <td>11.60</td>\n",
       "      <td>0.09</td>\n",
       "      <td>61</td>\n",
       "      <td>44</td>\n",
       "      <td>0</td>\n",
       "      <td>NaN</td>\n",
       "      <td>0</td>\n",
       "      <td>49430</td>\n",
       "      <td>36987</td>\n",
       "      <td>153.0</td>\n",
       "      <td>2</td>\n",
       "      <td>0</td>\n",
       "      <td>0</td>\n",
       "      <td>1</td>\n",
       "    </tr>\n",
       "    <tr>\n",
       "      <th>11</th>\n",
       "      <td>19</td>\n",
       "      <td>8.99</td>\n",
       "      <td>0.17</td>\n",
       "      <td>18</td>\n",
       "      <td>30</td>\n",
       "      <td>1</td>\n",
       "      <td>1.0</td>\n",
       "      <td>0</td>\n",
       "      <td>43934</td>\n",
       "      <td>35603</td>\n",
       "      <td>NaN</td>\n",
       "      <td>3</td>\n",
       "      <td>1</td>\n",
       "      <td>0</td>\n",
       "      <td>1</td>\n",
       "    </tr>\n",
       "    <tr>\n",
       "      <th>12</th>\n",
       "      <td>20</td>\n",
       "      <td>16.55</td>\n",
       "      <td>0.91</td>\n",
       "      <td>18</td>\n",
       "      <td>38</td>\n",
       "      <td>0</td>\n",
       "      <td>NaN</td>\n",
       "      <td>0</td>\n",
       "      <td>25466</td>\n",
       "      <td>1807</td>\n",
       "      <td>NaN</td>\n",
       "      <td>3</td>\n",
       "      <td>1</td>\n",
       "      <td>1</td>\n",
       "      <td>1</td>\n",
       "    </tr>\n",
       "    <tr>\n",
       "      <th>13</th>\n",
       "      <td>21</td>\n",
       "      <td>16.95</td>\n",
       "      <td>0.98</td>\n",
       "      <td>40</td>\n",
       "      <td>49</td>\n",
       "      <td>0</td>\n",
       "      <td>NaN</td>\n",
       "      <td>1</td>\n",
       "      <td>14976</td>\n",
       "      <td>16564</td>\n",
       "      <td>397.0</td>\n",
       "      <td>1</td>\n",
       "      <td>1</td>\n",
       "      <td>1</td>\n",
       "      <td>1</td>\n",
       "    </tr>\n",
       "    <tr>\n",
       "      <th>14</th>\n",
       "      <td>26</td>\n",
       "      <td>13.29</td>\n",
       "      <td>0.87</td>\n",
       "      <td>27</td>\n",
       "      <td>17</td>\n",
       "      <td>0</td>\n",
       "      <td>NaN</td>\n",
       "      <td>0</td>\n",
       "      <td>48477</td>\n",
       "      <td>18077</td>\n",
       "      <td>77.0</td>\n",
       "      <td>2</td>\n",
       "      <td>1</td>\n",
       "      <td>0</td>\n",
       "      <td>1</td>\n",
       "    </tr>\n",
       "    <tr>\n",
       "      <th>15</th>\n",
       "      <td>29</td>\n",
       "      <td>9.37</td>\n",
       "      <td>0.95</td>\n",
       "      <td>38</td>\n",
       "      <td>11</td>\n",
       "      <td>1</td>\n",
       "      <td>0.0</td>\n",
       "      <td>0</td>\n",
       "      <td>30738</td>\n",
       "      <td>48217</td>\n",
       "      <td>336.0</td>\n",
       "      <td>1</td>\n",
       "      <td>1</td>\n",
       "      <td>1</td>\n",
       "      <td>1</td>\n",
       "    </tr>\n",
       "    <tr>\n",
       "      <th>16</th>\n",
       "      <td>32</td>\n",
       "      <td>11.85</td>\n",
       "      <td>0.93</td>\n",
       "      <td>55</td>\n",
       "      <td>31</td>\n",
       "      <td>1</td>\n",
       "      <td>NaN</td>\n",
       "      <td>0</td>\n",
       "      <td>11788</td>\n",
       "      <td>30102</td>\n",
       "      <td>307.0</td>\n",
       "      <td>3</td>\n",
       "      <td>1</td>\n",
       "      <td>1</td>\n",
       "      <td>1</td>\n",
       "    </tr>\n",
       "    <tr>\n",
       "      <th>17</th>\n",
       "      <td>34</td>\n",
       "      <td>8.76</td>\n",
       "      <td>0.57</td>\n",
       "      <td>72</td>\n",
       "      <td>38</td>\n",
       "      <td>1</td>\n",
       "      <td>NaN</td>\n",
       "      <td>1</td>\n",
       "      <td>27249</td>\n",
       "      <td>40443</td>\n",
       "      <td>198.0</td>\n",
       "      <td>3</td>\n",
       "      <td>1</td>\n",
       "      <td>1</td>\n",
       "      <td>1</td>\n",
       "    </tr>\n",
       "    <tr>\n",
       "      <th>18</th>\n",
       "      <td>35</td>\n",
       "      <td>9.77</td>\n",
       "      <td>0.07</td>\n",
       "      <td>69</td>\n",
       "      <td>30</td>\n",
       "      <td>0</td>\n",
       "      <td>NaN</td>\n",
       "      <td>0</td>\n",
       "      <td>26185</td>\n",
       "      <td>37310</td>\n",
       "      <td>172.0</td>\n",
       "      <td>2</td>\n",
       "      <td>0</td>\n",
       "      <td>1</td>\n",
       "      <td>1</td>\n",
       "    </tr>\n",
       "    <tr>\n",
       "      <th>19</th>\n",
       "      <td>37</td>\n",
       "      <td>11.35</td>\n",
       "      <td>0.78</td>\n",
       "      <td>72</td>\n",
       "      <td>47</td>\n",
       "      <td>1</td>\n",
       "      <td>NaN</td>\n",
       "      <td>1</td>\n",
       "      <td>21038</td>\n",
       "      <td>9324</td>\n",
       "      <td>348.0</td>\n",
       "      <td>3</td>\n",
       "      <td>0</td>\n",
       "      <td>1</td>\n",
       "      <td>1</td>\n",
       "    </tr>\n",
       "  </tbody>\n",
       "</table>\n",
       "</div>"
      ],
      "text/plain": [
       "    Patient_Number  Level_of_Hemoglobin  Genetic_Pedigree_Coefficient  Age  \\\n",
       "0                1                11.28                          0.90   34   \n",
       "1                3                10.79                          0.91   70   \n",
       "2                5                14.17                          0.83   52   \n",
       "3                7                11.69                          0.75   43   \n",
       "4               10                14.56                          0.61   40   \n",
       "5               11                 8.58                          0.13   70   \n",
       "6               12                12.77                          0.10   35   \n",
       "7               13                16.40                          0.45   31   \n",
       "8               16                10.96                          0.10   43   \n",
       "9               17                11.98                          0.06   65   \n",
       "10              18                11.60                          0.09   61   \n",
       "11              19                 8.99                          0.17   18   \n",
       "12              20                16.55                          0.91   18   \n",
       "13              21                16.95                          0.98   40   \n",
       "14              26                13.29                          0.87   27   \n",
       "15              29                 9.37                          0.95   38   \n",
       "16              32                11.85                          0.93   55   \n",
       "17              34                 8.76                          0.57   72   \n",
       "18              35                 9.77                          0.07   69   \n",
       "19              37                11.35                          0.78   72   \n",
       "\n",
       "    BMI  Sex  Pregnancy  Smoking  Physical_activity  salt_content_in_the_diet  \\\n",
       "0    23    1        1.0        0              45961                     48071   \n",
       "1    49    0        NaN        0               9995                     29465   \n",
       "2    19    0        NaN        0              15619                     49644   \n",
       "3    41    1        1.0        0              38369                     32967   \n",
       "4    44    0        NaN        0               1278                     12715   \n",
       "5    28    1        NaN        0              48527                     26178   \n",
       "6    17    0        NaN        0              22500                     43040   \n",
       "7    50    0        NaN        1              25639                     46997   \n",
       "8    27    1        1.0        0               7329                     39018   \n",
       "9    28    1        NaN        0              29834                     45217   \n",
       "10   44    0        NaN        0              49430                     36987   \n",
       "11   30    1        1.0        0              43934                     35603   \n",
       "12   38    0        NaN        0              25466                      1807   \n",
       "13   49    0        NaN        1              14976                     16564   \n",
       "14   17    0        NaN        0              48477                     18077   \n",
       "15   11    1        0.0        0              30738                     48217   \n",
       "16   31    1        NaN        0              11788                     30102   \n",
       "17   38    1        NaN        1              27249                     40443   \n",
       "18   30    0        NaN        0              26185                     37310   \n",
       "19   47    1        NaN        1              21038                      9324   \n",
       "\n",
       "    alcohol_consumption_per_day  Level_of_Stress  Chronic_kidney_disease  \\\n",
       "0                           NaN                2                       1   \n",
       "1                          67.0                2                       1   \n",
       "2                         397.0                2                       0   \n",
       "3                         206.0                3                       1   \n",
       "4                          95.0                2                       0   \n",
       "5                          46.0                1                       1   \n",
       "6                         382.0                3                       1   \n",
       "7                          41.0                3                       0   \n",
       "8                         495.0                1                       1   \n",
       "9                         377.0                2                       0   \n",
       "10                        153.0                2                       0   \n",
       "11                          NaN                3                       1   \n",
       "12                          NaN                3                       1   \n",
       "13                        397.0                1                       1   \n",
       "14                         77.0                2                       1   \n",
       "15                        336.0                1                       1   \n",
       "16                        307.0                3                       1   \n",
       "17                        198.0                3                       1   \n",
       "18                        172.0                2                       0   \n",
       "19                        348.0                3                       0   \n",
       "\n",
       "    Adrenal_and_thyroid_disorders  donate  \n",
       "0                               1       1  \n",
       "1                               0       1  \n",
       "2                               0       1  \n",
       "3                               1       1  \n",
       "4                               0       1  \n",
       "5                               1       1  \n",
       "6                               0       1  \n",
       "7                               1       1  \n",
       "8                               0       1  \n",
       "9                               0       1  \n",
       "10                              0       1  \n",
       "11                              0       1  \n",
       "12                              1       1  \n",
       "13                              1       1  \n",
       "14                              0       1  \n",
       "15                              1       1  \n",
       "16                              1       1  \n",
       "17                              1       1  \n",
       "18                              1       1  \n",
       "19                              1       1  "
      ]
     },
     "execution_count": 53,
     "metadata": {},
     "output_type": "execute_result"
    }
   ],
   "source": [
    "df.head(20)\n"
   ]
  },
  {
   "cell_type": "code",
   "execution_count": 54,
   "metadata": {},
   "outputs": [
    {
     "name": "stdout",
     "output_type": "stream",
     "text": [
      "<class 'pandas.core.frame.DataFrame'>\n",
      "RangeIndex: 2000 entries, 0 to 1999\n",
      "Data columns (total 15 columns):\n",
      " #   Column                         Non-Null Count  Dtype  \n",
      "---  ------                         --------------  -----  \n",
      " 0   Patient_Number                 2000 non-null   int64  \n",
      " 1   Level_of_Hemoglobin            2000 non-null   float64\n",
      " 2   Genetic_Pedigree_Coefficient   1908 non-null   float64\n",
      " 3   Age                            2000 non-null   int64  \n",
      " 4   BMI                            2000 non-null   int64  \n",
      " 5   Sex                            2000 non-null   int64  \n",
      " 6   Pregnancy                      442 non-null    float64\n",
      " 7   Smoking                        2000 non-null   int64  \n",
      " 8   Physical_activity              2000 non-null   int64  \n",
      " 9   salt_content_in_the_diet       2000 non-null   int64  \n",
      " 10  alcohol_consumption_per_day    1758 non-null   float64\n",
      " 11  Level_of_Stress                2000 non-null   int64  \n",
      " 12  Chronic_kidney_disease         2000 non-null   int64  \n",
      " 13  Adrenal_and_thyroid_disorders  2000 non-null   int64  \n",
      " 14  donate                         2000 non-null   int64  \n",
      "dtypes: float64(4), int64(11)\n",
      "memory usage: 234.5 KB\n"
     ]
    }
   ],
   "source": [
    "df.info()"
   ]
  },
  {
   "cell_type": "code",
   "execution_count": 55,
   "metadata": {},
   "outputs": [],
   "source": [
    "df['donate'] = df['donate'].replace({0: 1, 1: 0})\n"
   ]
  },
  {
   "cell_type": "code",
   "execution_count": 56,
   "metadata": {},
   "outputs": [
    {
     "data": {
      "text/plain": [
       "donate\n",
       "0    1121\n",
       "1     879\n",
       "Name: count, dtype: int64"
      ]
     },
     "execution_count": 56,
     "metadata": {},
     "output_type": "execute_result"
    }
   ],
   "source": [
    "df.donate.value_counts()"
   ]
  },
  {
   "cell_type": "code",
   "execution_count": 57,
   "metadata": {},
   "outputs": [
    {
     "data": {
      "text/plain": [
       "Sex\n",
       "0    1008\n",
       "1     992\n",
       "Name: count, dtype: int64"
      ]
     },
     "execution_count": 57,
     "metadata": {},
     "output_type": "execute_result"
    }
   ],
   "source": [
    "df.Sex.value_counts()"
   ]
  },
  {
   "cell_type": "code",
   "execution_count": 58,
   "metadata": {},
   "outputs": [
    {
     "data": {
      "text/plain": [
       "0         NaN\n",
       "1        67.0\n",
       "2       397.0\n",
       "3       206.0\n",
       "4        95.0\n",
       "        ...  \n",
       "1995    471.0\n",
       "1996     82.0\n",
       "1997     48.0\n",
       "1998    379.0\n",
       "1999    253.0\n",
       "Name: alcohol_consumption_per_day, Length: 2000, dtype: float64"
      ]
     },
     "execution_count": 58,
     "metadata": {},
     "output_type": "execute_result"
    }
   ],
   "source": [
    "df['alcohol_consumption_per_day']\n"
   ]
  },
  {
   "cell_type": "code",
   "execution_count": 59,
   "metadata": {},
   "outputs": [
    {
     "data": {
      "text/plain": [
       "Pregnancy\n",
       "0.0    243\n",
       "1.0    199\n",
       "Name: count, dtype: int64"
      ]
     },
     "execution_count": 59,
     "metadata": {},
     "output_type": "execute_result"
    }
   ],
   "source": [
    "df['Pregnancy'].value_counts()\n"
   ]
  },
  {
   "cell_type": "markdown",
   "metadata": {},
   "source": [
    "# Data Cleaning"
   ]
  },
  {
   "cell_type": "code",
   "execution_count": 60,
   "metadata": {},
   "outputs": [
    {
     "data": {
      "text/plain": [
       "Patient_Number                      0\n",
       "Level_of_Hemoglobin                 0\n",
       "Genetic_Pedigree_Coefficient       92\n",
       "Age                                 0\n",
       "BMI                                 0\n",
       "Sex                                 0\n",
       "Pregnancy                        1558\n",
       "Smoking                             0\n",
       "Physical_activity                   0\n",
       "salt_content_in_the_diet            0\n",
       "alcohol_consumption_per_day       242\n",
       "Level_of_Stress                     0\n",
       "Chronic_kidney_disease              0\n",
       "Adrenal_and_thyroid_disorders       0\n",
       "donate                              0\n",
       "dtype: int64"
      ]
     },
     "execution_count": 60,
     "metadata": {},
     "output_type": "execute_result"
    }
   ],
   "source": [
    "df.isnull().sum()\n"
   ]
  },
  {
   "cell_type": "code",
   "execution_count": 61,
   "metadata": {},
   "outputs": [
    {
     "data": {
      "text/plain": [
       "Patient_Number                   0.000\n",
       "Level_of_Hemoglobin              0.000\n",
       "Genetic_Pedigree_Coefficient     0.046\n",
       "Age                              0.000\n",
       "BMI                              0.000\n",
       "Sex                              0.000\n",
       "Pregnancy                        0.779\n",
       "Smoking                          0.000\n",
       "Physical_activity                0.000\n",
       "salt_content_in_the_diet         0.000\n",
       "alcohol_consumption_per_day      0.121\n",
       "Level_of_Stress                  0.000\n",
       "Chronic_kidney_disease           0.000\n",
       "Adrenal_and_thyroid_disorders    0.000\n",
       "donate                           0.000\n",
       "dtype: float64"
      ]
     },
     "execution_count": 61,
     "metadata": {},
     "output_type": "execute_result"
    }
   ],
   "source": [
    "df.isnull().mean()\n"
   ]
  },
  {
   "cell_type": "code",
   "execution_count": 62,
   "metadata": {},
   "outputs": [
    {
     "name": "stderr",
     "output_type": "stream",
     "text": [
      "C:\\Users\\Admin\\AppData\\Local\\Temp\\ipykernel_55484\\3282748605.py:2: FutureWarning: A value is trying to be set on a copy of a DataFrame or Series through chained assignment using an inplace method.\n",
      "The behavior will change in pandas 3.0. This inplace method will never work because the intermediate object on which we are setting values always behaves as a copy.\n",
      "\n",
      "For example, when doing 'df[col].method(value, inplace=True)', try using 'df.method({col: value}, inplace=True)' or df[col] = df[col].method(value) instead, to perform the operation inplace on the original object.\n",
      "\n",
      "\n",
      "  df.Genetic_Pedigree_Coefficient.fillna(df.Genetic_Pedigree_Coefficient.mean(),inplace=True)\n"
     ]
    }
   ],
   "source": [
    "df.alcohol_consumption_per_day.fillna(df.alcohol_consumption_per_day.mean(),inplace=True)\n",
    "df.Genetic_Pedigree_Coefficient.fillna(df.Genetic_Pedigree_Coefficient.mean(),inplace=True)"
   ]
  },
  {
   "cell_type": "code",
   "execution_count": 63,
   "metadata": {},
   "outputs": [],
   "source": [
    "df.loc[((df['Sex'] == 1) | (df['Sex'] == 0)) & (df['Pregnancy'].isnull()), 'Pregnancy'] = df['Sex'].map({0: -1, 1: 0})\n"
   ]
  },
  {
   "cell_type": "code",
   "execution_count": 64,
   "metadata": {},
   "outputs": [
    {
     "data": {
      "text/plain": [
       "Patient_Number                   0\n",
       "Level_of_Hemoglobin              0\n",
       "Genetic_Pedigree_Coefficient     0\n",
       "Age                              0\n",
       "BMI                              0\n",
       "Sex                              0\n",
       "Pregnancy                        0\n",
       "Smoking                          0\n",
       "Physical_activity                0\n",
       "salt_content_in_the_diet         0\n",
       "alcohol_consumption_per_day      0\n",
       "Level_of_Stress                  0\n",
       "Chronic_kidney_disease           0\n",
       "Adrenal_and_thyroid_disorders    0\n",
       "donate                           0\n",
       "dtype: int64"
      ]
     },
     "execution_count": 64,
     "metadata": {},
     "output_type": "execute_result"
    }
   ],
   "source": [
    "df.isnull().sum()\n"
   ]
  },
  {
   "cell_type": "code",
   "execution_count": 65,
   "metadata": {},
   "outputs": [
    {
     "name": "stdout",
     "output_type": "stream",
     "text": [
      "Sex  Pregnancy\n",
      "1    0.0          793\n",
      "     1.0          199\n",
      "Name: count, dtype: int64\n"
     ]
    }
   ],
   "source": [
    "df_filtered = df[df['Sex'] == 1][['Sex', 'Pregnancy']]\n",
    "\n",
    "print(df_filtered.value_counts())\n"
   ]
  },
  {
   "cell_type": "code",
   "execution_count": 66,
   "metadata": {},
   "outputs": [],
   "source": [
    "df['Pregnancy'] = df['Pregnancy'].astype(int)\n"
   ]
  },
  {
   "cell_type": "code",
   "execution_count": 67,
   "metadata": {},
   "outputs": [
    {
     "data": {
      "text/plain": [
       "Pregnancy\n",
       "-1    1008\n",
       " 0     793\n",
       " 1     199\n",
       "Name: count, dtype: int64"
      ]
     },
     "execution_count": 67,
     "metadata": {},
     "output_type": "execute_result"
    }
   ],
   "source": [
    "df.Pregnancy.value_counts()"
   ]
  },
  {
   "cell_type": "code",
   "execution_count": 68,
   "metadata": {},
   "outputs": [
    {
     "data": {
      "text/plain": [
       "Patient_Number                   0\n",
       "Level_of_Hemoglobin              0\n",
       "Genetic_Pedigree_Coefficient     0\n",
       "Age                              0\n",
       "BMI                              0\n",
       "Sex                              0\n",
       "Pregnancy                        0\n",
       "Smoking                          0\n",
       "Physical_activity                0\n",
       "salt_content_in_the_diet         0\n",
       "alcohol_consumption_per_day      0\n",
       "Level_of_Stress                  0\n",
       "Chronic_kidney_disease           0\n",
       "Adrenal_and_thyroid_disorders    0\n",
       "donate                           0\n",
       "dtype: int64"
      ]
     },
     "execution_count": 68,
     "metadata": {},
     "output_type": "execute_result"
    }
   ],
   "source": [
    "df.isnull().sum()\n"
   ]
  },
  {
   "cell_type": "code",
   "execution_count": 69,
   "metadata": {},
   "outputs": [
    {
     "data": {
      "text/html": [
       "<div>\n",
       "<style scoped>\n",
       "    .dataframe tbody tr th:only-of-type {\n",
       "        vertical-align: middle;\n",
       "    }\n",
       "\n",
       "    .dataframe tbody tr th {\n",
       "        vertical-align: top;\n",
       "    }\n",
       "\n",
       "    .dataframe thead th {\n",
       "        text-align: right;\n",
       "    }\n",
       "</style>\n",
       "<table border=\"1\" class=\"dataframe\">\n",
       "  <thead>\n",
       "    <tr style=\"text-align: right;\">\n",
       "      <th></th>\n",
       "      <th>column_name</th>\n",
       "      <th>percent_missing</th>\n",
       "    </tr>\n",
       "  </thead>\n",
       "  <tbody>\n",
       "    <tr>\n",
       "      <th>Patient_Number</th>\n",
       "      <td>Patient_Number</td>\n",
       "      <td>0.0</td>\n",
       "    </tr>\n",
       "    <tr>\n",
       "      <th>Level_of_Hemoglobin</th>\n",
       "      <td>Level_of_Hemoglobin</td>\n",
       "      <td>0.0</td>\n",
       "    </tr>\n",
       "    <tr>\n",
       "      <th>Genetic_Pedigree_Coefficient</th>\n",
       "      <td>Genetic_Pedigree_Coefficient</td>\n",
       "      <td>0.0</td>\n",
       "    </tr>\n",
       "    <tr>\n",
       "      <th>Age</th>\n",
       "      <td>Age</td>\n",
       "      <td>0.0</td>\n",
       "    </tr>\n",
       "    <tr>\n",
       "      <th>BMI</th>\n",
       "      <td>BMI</td>\n",
       "      <td>0.0</td>\n",
       "    </tr>\n",
       "    <tr>\n",
       "      <th>Sex</th>\n",
       "      <td>Sex</td>\n",
       "      <td>0.0</td>\n",
       "    </tr>\n",
       "    <tr>\n",
       "      <th>Pregnancy</th>\n",
       "      <td>Pregnancy</td>\n",
       "      <td>0.0</td>\n",
       "    </tr>\n",
       "    <tr>\n",
       "      <th>Smoking</th>\n",
       "      <td>Smoking</td>\n",
       "      <td>0.0</td>\n",
       "    </tr>\n",
       "    <tr>\n",
       "      <th>Physical_activity</th>\n",
       "      <td>Physical_activity</td>\n",
       "      <td>0.0</td>\n",
       "    </tr>\n",
       "    <tr>\n",
       "      <th>salt_content_in_the_diet</th>\n",
       "      <td>salt_content_in_the_diet</td>\n",
       "      <td>0.0</td>\n",
       "    </tr>\n",
       "    <tr>\n",
       "      <th>alcohol_consumption_per_day</th>\n",
       "      <td>alcohol_consumption_per_day</td>\n",
       "      <td>0.0</td>\n",
       "    </tr>\n",
       "    <tr>\n",
       "      <th>Level_of_Stress</th>\n",
       "      <td>Level_of_Stress</td>\n",
       "      <td>0.0</td>\n",
       "    </tr>\n",
       "    <tr>\n",
       "      <th>Chronic_kidney_disease</th>\n",
       "      <td>Chronic_kidney_disease</td>\n",
       "      <td>0.0</td>\n",
       "    </tr>\n",
       "    <tr>\n",
       "      <th>Adrenal_and_thyroid_disorders</th>\n",
       "      <td>Adrenal_and_thyroid_disorders</td>\n",
       "      <td>0.0</td>\n",
       "    </tr>\n",
       "    <tr>\n",
       "      <th>donate</th>\n",
       "      <td>donate</td>\n",
       "      <td>0.0</td>\n",
       "    </tr>\n",
       "  </tbody>\n",
       "</table>\n",
       "</div>"
      ],
      "text/plain": [
       "                                                 column_name  percent_missing\n",
       "Patient_Number                                Patient_Number              0.0\n",
       "Level_of_Hemoglobin                      Level_of_Hemoglobin              0.0\n",
       "Genetic_Pedigree_Coefficient    Genetic_Pedigree_Coefficient              0.0\n",
       "Age                                                      Age              0.0\n",
       "BMI                                                      BMI              0.0\n",
       "Sex                                                      Sex              0.0\n",
       "Pregnancy                                          Pregnancy              0.0\n",
       "Smoking                                              Smoking              0.0\n",
       "Physical_activity                          Physical_activity              0.0\n",
       "salt_content_in_the_diet            salt_content_in_the_diet              0.0\n",
       "alcohol_consumption_per_day      alcohol_consumption_per_day              0.0\n",
       "Level_of_Stress                              Level_of_Stress              0.0\n",
       "Chronic_kidney_disease                Chronic_kidney_disease              0.0\n",
       "Adrenal_and_thyroid_disorders  Adrenal_and_thyroid_disorders              0.0\n",
       "donate                                                donate              0.0"
      ]
     },
     "execution_count": 69,
     "metadata": {},
     "output_type": "execute_result"
    }
   ],
   "source": [
    "\n",
    "def null_value_check_in_dataframe(df):\n",
    "    percent_missing = df.isnull().sum() * 100 / len(df)\n",
    "    missing_value_df = pd.DataFrame({'column_name': df.columns,\n",
    "                                     'percent_missing': percent_missing})\n",
    "    return missing_value_df\n",
    "\n",
    "df_null = null_value_check_in_dataframe(df)\n",
    "df_null"
   ]
  },
  {
   "cell_type": "code",
   "execution_count": 70,
   "metadata": {},
   "outputs": [],
   "source": [
    "\n",
    "df.drop(['Patient_Number'], axis=1, inplace=True)"
   ]
  },
  {
   "cell_type": "markdown",
   "metadata": {},
   "source": [
    "# Data visulization"
   ]
  },
  {
   "cell_type": "code",
   "execution_count": 71,
   "metadata": {},
   "outputs": [
    {
     "data": {
      "text/plain": [
       "<Axes: xlabel='donate'>"
      ]
     },
     "execution_count": 71,
     "metadata": {},
     "output_type": "execute_result"
    },
    {
     "data": {
      "image/png": "[encoded data removed]",
      "text/plain": [
       "<Figure size 640x480 with 1 Axes>"
      ]
     },
     "metadata": {},
     "output_type": "display_data"
    }
   ],
   "source": [
    "sns.boxplot(x='donate',data=df)\n"
   ]
  },
  {
   "cell_type": "code",
   "execution_count": 72,
   "metadata": {},
   "outputs": [
    {
     "data": {
      "text/plain": [
       "<Axes: xlabel='Level_of_Hemoglobin'>"
      ]
     },
     "execution_count": 72,
     "metadata": {},
     "output_type": "execute_result"
    },
    {
     "data": {
      "image/png": "[encoded data removed]",
      "text/plain": [
       "<Figure size 640x480 with 1 Axes>"
      ]
     },
     "metadata": {},
     "output_type": "display_data"
    }
   ],
   "source": [
    "sns.boxplot(x='Level_of_Hemoglobin',data=df)\n"
   ]
  },
  {
   "cell_type": "code",
   "execution_count": 73,
   "metadata": {},
   "outputs": [
    {
     "data": {
      "text/plain": [
       "0.00     8.10\n",
       "0.95    16.01\n",
       "Name: Level_of_Hemoglobin, dtype: float64"
      ]
     },
     "execution_count": 73,
     "metadata": {},
     "output_type": "execute_result"
    }
   ],
   "source": [
    "df['Level_of_Hemoglobin'].quantile([0,0.95])\n"
   ]
  },
  {
   "cell_type": "code",
   "execution_count": 74,
   "metadata": {},
   "outputs": [
    {
     "name": "stdout",
     "output_type": "stream",
     "text": [
      "0       True\n",
      "1       True\n",
      "2       True\n",
      "3       True\n",
      "4       True\n",
      "        ... \n",
      "1995    True\n",
      "1996    True\n",
      "1997    True\n",
      "1998    True\n",
      "1999    True\n",
      "Name: Level_of_Hemoglobin, Length: 2000, dtype: bool\n"
     ]
    }
   ],
   "source": [
    "low,high=df['Level_of_Hemoglobin'].quantile([0,0.95])\n",
    "sub=df['Level_of_Hemoglobin'].between(low,high)\n",
    "print(sub)\n",
    "df=df[sub]"
   ]
  },
  {
   "cell_type": "code",
   "execution_count": 75,
   "metadata": {},
   "outputs": [
    {
     "data": {
      "text/plain": [
       "<Axes: xlabel='Level_of_Hemoglobin'>"
      ]
     },
     "execution_count": 75,
     "metadata": {},
     "output_type": "execute_result"
    },
    {
     "data": {
      "image/png": "[encoded data removed]",
      "text/plain": [
       "<Figure size 640x480 with 1 Axes>"
      ]
     },
     "metadata": {},
     "output_type": "display_data"
    }
   ],
   "source": [
    "sns.boxplot(x='Level_of_Hemoglobin',data=df)\n"
   ]
  },
  {
   "cell_type": "code",
   "execution_count": 76,
   "metadata": {},
   "outputs": [
    {
     "name": "stdout",
     "output_type": "stream",
     "text": [
      "Lower Boundaries: \n",
      " -2.5\n",
      "Upper Boundaries: \n",
      " 1.5\n",
      "Outliers: \n",
      " Series([], Name: Pregnancy, dtype: int32)\n"
     ]
    }
   ],
   "source": [
    "Q1 =df['Pregnancy'].quantile(0.25)\n",
    "Q3 =df['Pregnancy'].quantile(0.75)\n",
    "IQR = Q3 - Q1\n",
    "lower_bound = Q1 - 1.5 * IQR\n",
    "upper_bound = Q3 + 1.5 * IQR\n",
    "outliers = df['Pregnancy'][(df['Pregnancy'] < lower_bound) | (df ['Pregnancy']> upper_bound)].dropna()\n",
    "print(\"Lower Boundaries: \\n\", lower_bound)\n",
    "print(\"Upper Boundaries: \\n\", upper_bound)\n",
    "print(\"Outliers: \\n\", outliers)\n",
    "\n"
   ]
  },
  {
   "cell_type": "code",
   "execution_count": 77,
   "metadata": {},
   "outputs": [
    {
     "name": "stdout",
     "output_type": "stream",
     "text": [
      "-2.5\n"
     ]
    }
   ],
   "source": [
    "min_Outliers = np.min(lower_bound)\n",
    "print(min_Outliers)"
   ]
  },
  {
   "cell_type": "code",
   "execution_count": 78,
   "metadata": {},
   "outputs": [
    {
     "name": "stdout",
     "output_type": "stream",
     "text": [
      "1.5\n"
     ]
    }
   ],
   "source": [
    "max_Outliers = np.max(upper_bound)\n",
    "print(max_Outliers)\n"
   ]
  },
  {
   "cell_type": "code",
   "execution_count": 79,
   "metadata": {},
   "outputs": [
    {
     "data": {
      "text/plain": [
       "<Axes: xlabel='Pregnancy'>"
      ]
     },
     "execution_count": 79,
     "metadata": {},
     "output_type": "execute_result"
    },
    {
     "data": {
      "image/png": "[encoded data removed]",
      "text/plain": [
       "<Figure size 640x480 with 1 Axes>"
      ]
     },
     "metadata": {},
     "output_type": "display_data"
    }
   ],
   "source": [
    "sns.boxplot(x='Pregnancy',data=df)\n"
   ]
  },
  {
   "cell_type": "code",
   "execution_count": 80,
   "metadata": {},
   "outputs": [
    {
     "data": {
      "text/html": [
       "<div>\n",
       "<style scoped>\n",
       "    .dataframe tbody tr th:only-of-type {\n",
       "        vertical-align: middle;\n",
       "    }\n",
       "\n",
       "    .dataframe tbody tr th {\n",
       "        vertical-align: top;\n",
       "    }\n",
       "\n",
       "    .dataframe thead th {\n",
       "        text-align: right;\n",
       "    }\n",
       "</style>\n",
       "<table border=\"1\" class=\"dataframe\">\n",
       "  <thead>\n",
       "    <tr style=\"text-align: right;\">\n",
       "      <th></th>\n",
       "      <th>Level_of_Hemoglobin</th>\n",
       "      <th>Genetic_Pedigree_Coefficient</th>\n",
       "      <th>Age</th>\n",
       "      <th>BMI</th>\n",
       "      <th>Sex</th>\n",
       "      <th>Pregnancy</th>\n",
       "      <th>Smoking</th>\n",
       "      <th>Physical_activity</th>\n",
       "      <th>salt_content_in_the_diet</th>\n",
       "      <th>alcohol_consumption_per_day</th>\n",
       "      <th>Level_of_Stress</th>\n",
       "      <th>Chronic_kidney_disease</th>\n",
       "      <th>Adrenal_and_thyroid_disorders</th>\n",
       "      <th>donate</th>\n",
       "    </tr>\n",
       "  </thead>\n",
       "  <tbody>\n",
       "    <tr>\n",
       "      <th>Level_of_Hemoglobin</th>\n",
       "      <td>1.000000</td>\n",
       "      <td>-0.017735</td>\n",
       "      <td>-0.154009</td>\n",
       "      <td>0.102397</td>\n",
       "      <td>-0.367915</td>\n",
       "      <td>-0.390050</td>\n",
       "      <td>0.000517</td>\n",
       "      <td>-0.042264</td>\n",
       "      <td>0.020146</td>\n",
       "      <td>0.001647</td>\n",
       "      <td>0.024377</td>\n",
       "      <td>0.029181</td>\n",
       "      <td>-0.010757</td>\n",
       "      <td>-0.036708</td>\n",
       "    </tr>\n",
       "    <tr>\n",
       "      <th>Genetic_Pedigree_Coefficient</th>\n",
       "      <td>-0.017735</td>\n",
       "      <td>1.000000</td>\n",
       "      <td>-0.016608</td>\n",
       "      <td>-0.005219</td>\n",
       "      <td>0.019329</td>\n",
       "      <td>0.024328</td>\n",
       "      <td>-0.039220</td>\n",
       "      <td>-0.004337</td>\n",
       "      <td>0.045272</td>\n",
       "      <td>-0.015828</td>\n",
       "      <td>0.005947</td>\n",
       "      <td>0.047777</td>\n",
       "      <td>0.006748</td>\n",
       "      <td>0.026978</td>\n",
       "    </tr>\n",
       "    <tr>\n",
       "      <th>Age</th>\n",
       "      <td>-0.154009</td>\n",
       "      <td>-0.016608</td>\n",
       "      <td>1.000000</td>\n",
       "      <td>0.034769</td>\n",
       "      <td>0.040221</td>\n",
       "      <td>-0.116876</td>\n",
       "      <td>0.028557</td>\n",
       "      <td>0.025254</td>\n",
       "      <td>-0.042068</td>\n",
       "      <td>0.009467</td>\n",
       "      <td>0.010589</td>\n",
       "      <td>-0.045732</td>\n",
       "      <td>-0.012985</td>\n",
       "      <td>0.034290</td>\n",
       "    </tr>\n",
       "    <tr>\n",
       "      <th>BMI</th>\n",
       "      <td>0.102397</td>\n",
       "      <td>-0.005219</td>\n",
       "      <td>0.034769</td>\n",
       "      <td>1.000000</td>\n",
       "      <td>0.023211</td>\n",
       "      <td>0.016939</td>\n",
       "      <td>0.007025</td>\n",
       "      <td>-0.005447</td>\n",
       "      <td>0.025533</td>\n",
       "      <td>-0.045405</td>\n",
       "      <td>-0.006011</td>\n",
       "      <td>0.005254</td>\n",
       "      <td>0.037896</td>\n",
       "      <td>-0.012672</td>\n",
       "    </tr>\n",
       "    <tr>\n",
       "      <th>Sex</th>\n",
       "      <td>-0.367915</td>\n",
       "      <td>0.019329</td>\n",
       "      <td>0.040221</td>\n",
       "      <td>0.023211</td>\n",
       "      <td>1.000000</td>\n",
       "      <td>0.900985</td>\n",
       "      <td>0.008606</td>\n",
       "      <td>0.011007</td>\n",
       "      <td>-0.008806</td>\n",
       "      <td>0.005632</td>\n",
       "      <td>-0.007249</td>\n",
       "      <td>0.040677</td>\n",
       "      <td>0.002422</td>\n",
       "      <td>-0.099981</td>\n",
       "    </tr>\n",
       "    <tr>\n",
       "      <th>Pregnancy</th>\n",
       "      <td>-0.390050</td>\n",
       "      <td>0.024328</td>\n",
       "      <td>-0.116876</td>\n",
       "      <td>0.016939</td>\n",
       "      <td>0.900985</td>\n",
       "      <td>1.000000</td>\n",
       "      <td>-0.028899</td>\n",
       "      <td>-0.012388</td>\n",
       "      <td>0.002687</td>\n",
       "      <td>0.016074</td>\n",
       "      <td>-0.004050</td>\n",
       "      <td>0.038183</td>\n",
       "      <td>0.002665</td>\n",
       "      <td>-0.093663</td>\n",
       "    </tr>\n",
       "    <tr>\n",
       "      <th>Smoking</th>\n",
       "      <td>0.000517</td>\n",
       "      <td>-0.039220</td>\n",
       "      <td>0.028557</td>\n",
       "      <td>0.007025</td>\n",
       "      <td>0.008606</td>\n",
       "      <td>-0.028899</td>\n",
       "      <td>1.000000</td>\n",
       "      <td>-0.015216</td>\n",
       "      <td>-0.000138</td>\n",
       "      <td>0.000898</td>\n",
       "      <td>-0.020699</td>\n",
       "      <td>-0.018379</td>\n",
       "      <td>0.017631</td>\n",
       "      <td>0.003332</td>\n",
       "    </tr>\n",
       "    <tr>\n",
       "      <th>Physical_activity</th>\n",
       "      <td>-0.042264</td>\n",
       "      <td>-0.004337</td>\n",
       "      <td>0.025254</td>\n",
       "      <td>-0.005447</td>\n",
       "      <td>0.011007</td>\n",
       "      <td>-0.012388</td>\n",
       "      <td>-0.015216</td>\n",
       "      <td>1.000000</td>\n",
       "      <td>-0.031581</td>\n",
       "      <td>-0.007558</td>\n",
       "      <td>-0.035995</td>\n",
       "      <td>0.010048</td>\n",
       "      <td>-0.002452</td>\n",
       "      <td>-0.026242</td>\n",
       "    </tr>\n",
       "    <tr>\n",
       "      <th>salt_content_in_the_diet</th>\n",
       "      <td>0.020146</td>\n",
       "      <td>0.045272</td>\n",
       "      <td>-0.042068</td>\n",
       "      <td>0.025533</td>\n",
       "      <td>-0.008806</td>\n",
       "      <td>0.002687</td>\n",
       "      <td>-0.000138</td>\n",
       "      <td>-0.031581</td>\n",
       "      <td>1.000000</td>\n",
       "      <td>-0.030961</td>\n",
       "      <td>-0.018275</td>\n",
       "      <td>0.004374</td>\n",
       "      <td>0.018480</td>\n",
       "      <td>-0.001337</td>\n",
       "    </tr>\n",
       "    <tr>\n",
       "      <th>alcohol_consumption_per_day</th>\n",
       "      <td>0.001647</td>\n",
       "      <td>-0.015828</td>\n",
       "      <td>0.009467</td>\n",
       "      <td>-0.045405</td>\n",
       "      <td>0.005632</td>\n",
       "      <td>0.016074</td>\n",
       "      <td>0.000898</td>\n",
       "      <td>-0.007558</td>\n",
       "      <td>-0.030961</td>\n",
       "      <td>1.000000</td>\n",
       "      <td>0.023004</td>\n",
       "      <td>0.031332</td>\n",
       "      <td>-0.003301</td>\n",
       "      <td>-0.015736</td>\n",
       "    </tr>\n",
       "    <tr>\n",
       "      <th>Level_of_Stress</th>\n",
       "      <td>0.024377</td>\n",
       "      <td>0.005947</td>\n",
       "      <td>0.010589</td>\n",
       "      <td>-0.006011</td>\n",
       "      <td>-0.007249</td>\n",
       "      <td>-0.004050</td>\n",
       "      <td>-0.020699</td>\n",
       "      <td>-0.035995</td>\n",
       "      <td>-0.018275</td>\n",
       "      <td>0.023004</td>\n",
       "      <td>1.000000</td>\n",
       "      <td>0.019302</td>\n",
       "      <td>-0.015218</td>\n",
       "      <td>-0.003452</td>\n",
       "    </tr>\n",
       "    <tr>\n",
       "      <th>Chronic_kidney_disease</th>\n",
       "      <td>0.029181</td>\n",
       "      <td>0.047777</td>\n",
       "      <td>-0.045732</td>\n",
       "      <td>0.005254</td>\n",
       "      <td>0.040677</td>\n",
       "      <td>0.038183</td>\n",
       "      <td>-0.018379</td>\n",
       "      <td>0.010048</td>\n",
       "      <td>0.004374</td>\n",
       "      <td>0.031332</td>\n",
       "      <td>0.019302</td>\n",
       "      <td>1.000000</td>\n",
       "      <td>0.115718</td>\n",
       "      <td>-0.385978</td>\n",
       "    </tr>\n",
       "    <tr>\n",
       "      <th>Adrenal_and_thyroid_disorders</th>\n",
       "      <td>-0.010757</td>\n",
       "      <td>0.006748</td>\n",
       "      <td>-0.012985</td>\n",
       "      <td>0.037896</td>\n",
       "      <td>0.002422</td>\n",
       "      <td>0.002665</td>\n",
       "      <td>0.017631</td>\n",
       "      <td>-0.002452</td>\n",
       "      <td>0.018480</td>\n",
       "      <td>-0.003301</td>\n",
       "      <td>-0.015218</td>\n",
       "      <td>0.115718</td>\n",
       "      <td>1.000000</td>\n",
       "      <td>-0.274753</td>\n",
       "    </tr>\n",
       "    <tr>\n",
       "      <th>donate</th>\n",
       "      <td>-0.036708</td>\n",
       "      <td>0.026978</td>\n",
       "      <td>0.034290</td>\n",
       "      <td>-0.012672</td>\n",
       "      <td>-0.099981</td>\n",
       "      <td>-0.093663</td>\n",
       "      <td>0.003332</td>\n",
       "      <td>-0.026242</td>\n",
       "      <td>-0.001337</td>\n",
       "      <td>-0.015736</td>\n",
       "      <td>-0.003452</td>\n",
       "      <td>-0.385978</td>\n",
       "      <td>-0.274753</td>\n",
       "      <td>1.000000</td>\n",
       "    </tr>\n",
       "  </tbody>\n",
       "</table>\n",
       "</div>"
      ],
      "text/plain": [
       "                               Level_of_Hemoglobin  \\\n",
       "Level_of_Hemoglobin                       1.000000   \n",
       "Genetic_Pedigree_Coefficient             -0.017735   \n",
       "Age                                      -0.154009   \n",
       "BMI                                       0.102397   \n",
       "Sex                                      -0.367915   \n",
       "Pregnancy                                -0.390050   \n",
       "Smoking                                   0.000517   \n",
       "Physical_activity                        -0.042264   \n",
       "salt_content_in_the_diet                  0.020146   \n",
       "alcohol_consumption_per_day               0.001647   \n",
       "Level_of_Stress                           0.024377   \n",
       "Chronic_kidney_disease                    0.029181   \n",
       "Adrenal_and_thyroid_disorders            -0.010757   \n",
       "donate                                   -0.036708   \n",
       "\n",
       "                               Genetic_Pedigree_Coefficient       Age  \\\n",
       "Level_of_Hemoglobin                               -0.017735 -0.154009   \n",
       "Genetic_Pedigree_Coefficient                       1.000000 -0.016608   \n",
       "Age                                               -0.016608  1.000000   \n",
       "BMI                                               -0.005219  0.034769   \n",
       "Sex                                                0.019329  0.040221   \n",
       "Pregnancy                                          0.024328 -0.116876   \n",
       "Smoking                                           -0.039220  0.028557   \n",
       "Physical_activity                                 -0.004337  0.025254   \n",
       "salt_content_in_the_diet                           0.045272 -0.042068   \n",
       "alcohol_consumption_per_day                       -0.015828  0.009467   \n",
       "Level_of_Stress                                    0.005947  0.010589   \n",
       "Chronic_kidney_disease                             0.047777 -0.045732   \n",
       "Adrenal_and_thyroid_disorders                      0.006748 -0.012985   \n",
       "donate                                             0.026978  0.034290   \n",
       "\n",
       "                                    BMI       Sex  Pregnancy   Smoking  \\\n",
       "Level_of_Hemoglobin            0.102397 -0.367915  -0.390050  0.000517   \n",
       "Genetic_Pedigree_Coefficient  -0.005219  0.019329   0.024328 -0.039220   \n",
       "Age                            0.034769  0.040221  -0.116876  0.028557   \n",
       "BMI                            1.000000  0.023211   0.016939  0.007025   \n",
       "Sex                            0.023211  1.000000   0.900985  0.008606   \n",
       "Pregnancy                      0.016939  0.900985   1.000000 -0.028899   \n",
       "Smoking                        0.007025  0.008606  -0.028899  1.000000   \n",
       "Physical_activity             -0.005447  0.011007  -0.012388 -0.015216   \n",
       "salt_content_in_the_diet       0.025533 -0.008806   0.002687 -0.000138   \n",
       "alcohol_consumption_per_day   -0.045405  0.005632   0.016074  0.000898   \n",
       "Level_of_Stress               -0.006011 -0.007249  -0.004050 -0.020699   \n",
       "Chronic_kidney_disease         0.005254  0.040677   0.038183 -0.018379   \n",
       "Adrenal_and_thyroid_disorders  0.037896  0.002422   0.002665  0.017631   \n",
       "donate                        -0.012672 -0.099981  -0.093663  0.003332   \n",
       "\n",
       "                               Physical_activity  salt_content_in_the_diet  \\\n",
       "Level_of_Hemoglobin                    -0.042264                  0.020146   \n",
       "Genetic_Pedigree_Coefficient           -0.004337                  0.045272   \n",
       "Age                                     0.025254                 -0.042068   \n",
       "BMI                                    -0.005447                  0.025533   \n",
       "Sex                                     0.011007                 -0.008806   \n",
       "Pregnancy                              -0.012388                  0.002687   \n",
       "Smoking                                -0.015216                 -0.000138   \n",
       "Physical_activity                       1.000000                 -0.031581   \n",
       "salt_content_in_the_diet               -0.031581                  1.000000   \n",
       "alcohol_consumption_per_day            -0.007558                 -0.030961   \n",
       "Level_of_Stress                        -0.035995                 -0.018275   \n",
       "Chronic_kidney_disease                  0.010048                  0.004374   \n",
       "Adrenal_and_thyroid_disorders          -0.002452                  0.018480   \n",
       "donate                                 -0.026242                 -0.001337   \n",
       "\n",
       "                               alcohol_consumption_per_day  Level_of_Stress  \\\n",
       "Level_of_Hemoglobin                               0.001647         0.024377   \n",
       "Genetic_Pedigree_Coefficient                     -0.015828         0.005947   \n",
       "Age                                               0.009467         0.010589   \n",
       "BMI                                              -0.045405        -0.006011   \n",
       "Sex                                               0.005632        -0.007249   \n",
       "Pregnancy                                         0.016074        -0.004050   \n",
       "Smoking                                           0.000898        -0.020699   \n",
       "Physical_activity                                -0.007558        -0.035995   \n",
       "salt_content_in_the_diet                         -0.030961        -0.018275   \n",
       "alcohol_consumption_per_day                       1.000000         0.023004   \n",
       "Level_of_Stress                                   0.023004         1.000000   \n",
       "Chronic_kidney_disease                            0.031332         0.019302   \n",
       "Adrenal_and_thyroid_disorders                    -0.003301        -0.015218   \n",
       "donate                                           -0.015736        -0.003452   \n",
       "\n",
       "                               Chronic_kidney_disease  \\\n",
       "Level_of_Hemoglobin                          0.029181   \n",
       "Genetic_Pedigree_Coefficient                 0.047777   \n",
       "Age                                         -0.045732   \n",
       "BMI                                          0.005254   \n",
       "Sex                                          0.040677   \n",
       "Pregnancy                                    0.038183   \n",
       "Smoking                                     -0.018379   \n",
       "Physical_activity                            0.010048   \n",
       "salt_content_in_the_diet                     0.004374   \n",
       "alcohol_consumption_per_day                  0.031332   \n",
       "Level_of_Stress                              0.019302   \n",
       "Chronic_kidney_disease                       1.000000   \n",
       "Adrenal_and_thyroid_disorders                0.115718   \n",
       "donate                                      -0.385978   \n",
       "\n",
       "                               Adrenal_and_thyroid_disorders    donate  \n",
       "Level_of_Hemoglobin                                -0.010757 -0.036708  \n",
       "Genetic_Pedigree_Coefficient                        0.006748  0.026978  \n",
       "Age                                                -0.012985  0.034290  \n",
       "BMI                                                 0.037896 -0.012672  \n",
       "Sex                                                 0.002422 -0.099981  \n",
       "Pregnancy                                           0.002665 -0.093663  \n",
       "Smoking                                             0.017631  0.003332  \n",
       "Physical_activity                                  -0.002452 -0.026242  \n",
       "salt_content_in_the_diet                            0.018480 -0.001337  \n",
       "alcohol_consumption_per_day                        -0.003301 -0.015736  \n",
       "Level_of_Stress                                    -0.015218 -0.003452  \n",
       "Chronic_kidney_disease                              0.115718 -0.385978  \n",
       "Adrenal_and_thyroid_disorders                       1.000000 -0.274753  \n",
       "donate                                             -0.274753  1.000000  "
      ]
     },
     "execution_count": 80,
     "metadata": {},
     "output_type": "execute_result"
    }
   ],
   "source": [
    "df.corr()\n"
   ]
  },
  {
   "cell_type": "code",
   "execution_count": 81,
   "metadata": {},
   "outputs": [
    {
     "data": {
      "text/plain": [
       "<Axes: >"
      ]
     },
     "execution_count": 81,
     "metadata": {},
     "output_type": "execute_result"
    },
    {
     "data": {
      "image/png": "[encoded data removed]",
      "text/plain": [
       "<Figure size 640x480 with 2 Axes>"
      ]
     },
     "metadata": {},
     "output_type": "display_data"
    }
   ],
   "source": [
    "sns.heatmap(df.corr(),annot=True)\n"
   ]
  },
  {
   "cell_type": "code",
   "execution_count": 82,
   "metadata": {},
   "outputs": [
    {
     "name": "stderr",
     "output_type": "stream",
     "text": [
      "C:\\Users\\Admin\\AppData\\Local\\Temp\\ipykernel_55484\\3256901608.py:1: UserWarning: \n",
      "\n",
      "`distplot` is a deprecated function and will be removed in seaborn v0.14.0.\n",
      "\n",
      "Please adapt your code to use either `displot` (a figure-level function with\n",
      "similar flexibility) or `histplot` (an axes-level function for histograms).\n",
      "\n",
      "For a guide to updating your code to use the new functions, please see\n",
      "https://gist.github.com/mwaskom/de44147ed2974457ad6372750bbe5751\n",
      "\n",
      "  sns.distplot(df['donate'])\n"
     ]
    },
    {
     "data": {
      "text/plain": [
       "<Axes: xlabel='donate', ylabel='Density'>"
      ]
     },
     "execution_count": 82,
     "metadata": {},
     "output_type": "execute_result"
    },
    {
     "data": {
      "image/png": "[encoded data removed]",
      "text/plain": [
       "<Figure size 640x480 with 1 Axes>"
      ]
     },
     "metadata": {},
     "output_type": "display_data"
    }
   ],
   "source": [
    "sns.distplot(df['donate'])\n"
   ]
  },
  {
   "cell_type": "code",
   "execution_count": 83,
   "metadata": {},
   "outputs": [
    {
     "data": {
      "text/plain": [
       "<Axes: xlabel='Smoking', ylabel='count'>"
      ]
     },
     "execution_count": 83,
     "metadata": {},
     "output_type": "execute_result"
    },
    {
     "data": {
      "image/png": "[encoded data removed]",
      "text/plain": [
       "<Figure size 640x480 with 1 Axes>"
      ]
     },
     "metadata": {},
     "output_type": "display_data"
    }
   ],
   "source": [
    "sns.countplot(x='Smoking',data=df)\n"
   ]
  },
  {
   "cell_type": "markdown",
   "metadata": {},
   "source": [
    "# Split data"
   ]
  },
  {
   "cell_type": "code",
   "execution_count": 84,
   "metadata": {},
   "outputs": [],
   "source": [
    "x=df.drop(['donate'],axis=1)"
   ]
  },
  {
   "cell_type": "code",
   "execution_count": 85,
   "metadata": {},
   "outputs": [],
   "source": [
    "y=df.donate"
   ]
  },
  {
   "cell_type": "code",
   "execution_count": 86,
   "metadata": {},
   "outputs": [
    {
     "data": {
      "text/html": [
       "<div>\n",
       "<style scoped>\n",
       "    .dataframe tbody tr th:only-of-type {\n",
       "        vertical-align: middle;\n",
       "    }\n",
       "\n",
       "    .dataframe tbody tr th {\n",
       "        vertical-align: top;\n",
       "    }\n",
       "\n",
       "    .dataframe thead th {\n",
       "        text-align: right;\n",
       "    }\n",
       "</style>\n",
       "<table border=\"1\" class=\"dataframe\">\n",
       "  <thead>\n",
       "    <tr style=\"text-align: right;\">\n",
       "      <th></th>\n",
       "      <th>Level_of_Hemoglobin</th>\n",
       "      <th>Genetic_Pedigree_Coefficient</th>\n",
       "      <th>Age</th>\n",
       "      <th>BMI</th>\n",
       "      <th>Sex</th>\n",
       "      <th>Pregnancy</th>\n",
       "      <th>Smoking</th>\n",
       "      <th>Physical_activity</th>\n",
       "      <th>salt_content_in_the_diet</th>\n",
       "      <th>alcohol_consumption_per_day</th>\n",
       "      <th>Level_of_Stress</th>\n",
       "      <th>Chronic_kidney_disease</th>\n",
       "      <th>Adrenal_and_thyroid_disorders</th>\n",
       "    </tr>\n",
       "  </thead>\n",
       "  <tbody>\n",
       "    <tr>\n",
       "      <th>0</th>\n",
       "      <td>-0.087968</td>\n",
       "      <td>1.412922</td>\n",
       "      <td>-0.762973</td>\n",
       "      <td>-0.583485</td>\n",
       "      <td>0.962309</td>\n",
       "      <td>2.065171</td>\n",
       "      <td>-1.008983</td>\n",
       "      <td>1.480733</td>\n",
       "      <td>1.630872</td>\n",
       "      <td>0.002475</td>\n",
       "      <td>-0.021784</td>\n",
       "      <td>1.003689</td>\n",
       "      <td>1.140812</td>\n",
       "    </tr>\n",
       "    <tr>\n",
       "      <th>1</th>\n",
       "      <td>-0.345336</td>\n",
       "      <td>1.447878</td>\n",
       "      <td>1.351587</td>\n",
       "      <td>1.608952</td>\n",
       "      <td>-1.039167</td>\n",
       "      <td>-0.936274</td>\n",
       "      <td>-1.008983</td>\n",
       "      <td>-1.084584</td>\n",
       "      <td>0.321674</td>\n",
       "      <td>-1.360214</td>\n",
       "      <td>-0.021784</td>\n",
       "      <td>1.003689</td>\n",
       "      <td>-0.876568</td>\n",
       "    </tr>\n",
       "    <tr>\n",
       "      <th>2</th>\n",
       "      <td>1.429981</td>\n",
       "      <td>1.168230</td>\n",
       "      <td>0.294307</td>\n",
       "      <td>-0.920782</td>\n",
       "      <td>-1.039167</td>\n",
       "      <td>-0.936274</td>\n",
       "      <td>-1.008983</td>\n",
       "      <td>-0.683446</td>\n",
       "      <td>1.741555</td>\n",
       "      <td>1.083626</td>\n",
       "      <td>-0.021784</td>\n",
       "      <td>-0.996324</td>\n",
       "      <td>-0.876568</td>\n",
       "    </tr>\n",
       "    <tr>\n",
       "      <th>3</th>\n",
       "      <td>0.127381</td>\n",
       "      <td>0.888583</td>\n",
       "      <td>-0.234333</td>\n",
       "      <td>0.934356</td>\n",
       "      <td>0.962309</td>\n",
       "      <td>2.065171</td>\n",
       "      <td>-1.008983</td>\n",
       "      <td>0.939225</td>\n",
       "      <td>0.568090</td>\n",
       "      <td>-0.330839</td>\n",
       "      <td>1.196223</td>\n",
       "      <td>1.003689</td>\n",
       "      <td>1.140812</td>\n",
       "    </tr>\n",
       "    <tr>\n",
       "      <th>4</th>\n",
       "      <td>1.634825</td>\n",
       "      <td>0.399200</td>\n",
       "      <td>-0.410547</td>\n",
       "      <td>1.187329</td>\n",
       "      <td>-1.039167</td>\n",
       "      <td>-0.936274</td>\n",
       "      <td>-1.008983</td>\n",
       "      <td>-1.706335</td>\n",
       "      <td>-0.856928</td>\n",
       "      <td>-1.152858</td>\n",
       "      <td>-0.021784</td>\n",
       "      <td>-0.996324</td>\n",
       "      <td>-0.876568</td>\n",
       "    </tr>\n",
       "  </tbody>\n",
       "</table>\n",
       "</div>"
      ],
      "text/plain": [
       "   Level_of_Hemoglobin  Genetic_Pedigree_Coefficient       Age       BMI  \\\n",
       "0            -0.087968                      1.412922 -0.762973 -0.583485   \n",
       "1            -0.345336                      1.447878  1.351587  1.608952   \n",
       "2             1.429981                      1.168230  0.294307 -0.920782   \n",
       "3             0.127381                      0.888583 -0.234333  0.934356   \n",
       "4             1.634825                      0.399200 -0.410547  1.187329   \n",
       "\n",
       "        Sex  Pregnancy   Smoking  Physical_activity  salt_content_in_the_diet  \\\n",
       "0  0.962309   2.065171 -1.008983           1.480733                  1.630872   \n",
       "1 -1.039167  -0.936274 -1.008983          -1.084584                  0.321674   \n",
       "2 -1.039167  -0.936274 -1.008983          -0.683446                  1.741555   \n",
       "3  0.962309   2.065171 -1.008983           0.939225                  0.568090   \n",
       "4 -1.039167  -0.936274 -1.008983          -1.706335                 -0.856928   \n",
       "\n",
       "   alcohol_consumption_per_day  Level_of_Stress  Chronic_kidney_disease  \\\n",
       "0                     0.002475        -0.021784                1.003689   \n",
       "1                    -1.360214        -0.021784                1.003689   \n",
       "2                     1.083626        -0.021784               -0.996324   \n",
       "3                    -0.330839         1.196223                1.003689   \n",
       "4                    -1.152858        -0.021784               -0.996324   \n",
       "\n",
       "   Adrenal_and_thyroid_disorders  \n",
       "0                       1.140812  \n",
       "1                      -0.876568  \n",
       "2                      -0.876568  \n",
       "3                       1.140812  \n",
       "4                      -0.876568  "
      ]
     },
     "execution_count": 86,
     "metadata": {},
     "output_type": "execute_result"
    }
   ],
   "source": [
    "from sklearn.preprocessing import StandardScaler\n",
    "\n",
    "x_standardized = x.copy()\n",
    "for col in x_standardized.columns:\n",
    "    x_standardized[col] = StandardScaler().fit_transform(x_standardized[col].values.reshape(-1, 1))\n",
    "    \n",
    "x_standardized.head()"
   ]
  },
  {
   "cell_type": "code",
   "execution_count": 87,
   "metadata": {},
   "outputs": [],
   "source": [
    "x_train,x_test,y_train,y_test=train_test_split(x,y,train_size=0.7,random_state=30)"
   ]
  },
  {
   "cell_type": "code",
   "execution_count": 88,
   "metadata": {},
   "outputs": [],
   "source": [
    "scaler = StandardScaler()\n",
    "x_train = scaler.fit_transform(x_train)\n",
    "x_train = pd.DataFrame(x_train , columns=x.columns)\n",
    "x_test = scaler.transform(x_test)\n",
    "x_test = pd.DataFrame(x_test , columns= x.columns)"
   ]
  },
  {
   "cell_type": "markdown",
   "metadata": {},
   "source": [
    "# Model"
   ]
  },
  {
   "cell_type": "code",
   "execution_count": 89,
   "metadata": {},
   "outputs": [],
   "source": [
    "\n",
    "clf=RandomForestClassifier(n_estimators=100)\n",
    "clf.fit(x_train,y_train)\n",
    "\n",
    "rf_probs = clf.predict_proba(x_test)\n",
    "\n",
    "rf_probs = rf_probs[:, 1]\n",
    "\n",
    "y_pred=clf.predict(x_test)"
   ]
  },
  {
   "cell_type": "code",
   "execution_count": 90,
   "metadata": {},
   "outputs": [
    {
     "name": "stdout",
     "output_type": "stream",
     "text": [
      "Accuracy  :: 0.828\n",
      "Recall    :: 0.828\n",
      "Precision :: 0.816\n",
      "F1 Score  :: 0.822\n",
      "AUC Score :: 0.879\n",
      "\n",
      "Classification Report ::\n",
      "\n",
      "               precision    recall  f1-score   support\n",
      "\n",
      "           0       0.84      0.83      0.83       298\n",
      "           1       0.82      0.83      0.82       273\n",
      "\n",
      "    accuracy                           0.83       571\n",
      "   macro avg       0.83      0.83      0.83       571\n",
      "weighted avg       0.83      0.83      0.83       571\n",
      "\n"
     ]
    }
   ],
   "source": [
    "from sklearn.metrics import accuracy_score, recall_score, precision_score, f1_score\n",
    "from sklearn.metrics import roc_curve, roc_auc_score, classification_report, confusion_matrix\n",
    "print(\"Accuracy  :: %.3f\"% accuracy_score(y_test, y_pred))\n",
    "print(\"Recall    :: %.3f\"% recall_score(y_test, y_pred))\n",
    "print(\"Precision :: %.3f\"% precision_score(y_test, y_pred))\n",
    "print(\"F1 Score  :: %.3f\"% f1_score(y_test, y_pred))\n",
    "print(\"AUC Score :: %.3f\"% roc_auc_score(y_test, rf_probs))\n",
    "\n",
    "print(\"\\nClassification Report ::\")\n",
    "print(\"\\n\",classification_report(y_test, y_pred))"
   ]
  },
  {
   "cell_type": "code",
   "execution_count": 91,
   "metadata": {},
   "outputs": [
    {
     "data": {
      "image/png": "[encoded data removed]",
      "text/plain": [
       "<Figure size 640x480 with 1 Axes>"
      ]
     },
     "metadata": {},
     "output_type": "display_data"
    }
   ],
   "source": [
    "\n",
    "fpr_RF, tpr_RF, thresholds_RF = roc_curve(y_test, rf_probs)\n",
    "\n",
    "plt.plot(fpr_RF, tpr_RF,'r-',label = 'RF')\n",
    "plt.plot([0,1],[0,1],'k-',label='random')\n",
    "plt.plot([0,0,1,1],[0,1,1,1],'g-',label='perfect')\n",
    "plt.legend()\n",
    "plt.xlabel('False Positive Rate')\n",
    "plt.ylabel('True Positive Rate')\n",
    "plt.show()"
   ]
  },
  {
   "cell_type": "code",
   "execution_count": 92,
   "metadata": {},
   "outputs": [
    {
     "data": {
      "image/png": "[encoded data removed]",
      "text/plain": [
       "<Figure size 640x480 with 2 Axes>"
      ]
     },
     "metadata": {},
     "output_type": "display_data"
    }
   ],
   "source": [
    "\n",
    "cf_matrix = confusion_matrix(y_test, y_pred)\n",
    "sns.heatmap(cf_matrix, annot=True, fmt=\"d\")\n",
    "plt.show()"
   ]
  },
  {
   "cell_type": "code",
   "execution_count": 93,
   "metadata": {},
   "outputs": [],
   "source": [
    "\n",
    "def run_exps(X_train: pd.DataFrame , y_train: pd.DataFrame, X_test: pd.DataFrame, y_test: pd.DataFrame) -> pd.DataFrame:\n",
    "    '''\n",
    "    Lightweight script to test many models and find winners\n",
    "    :param X_train: training split\n",
    "    :param y_train: training target vector\n",
    "    :param X_test: test split\n",
    "    :param y_test: test target vector\n",
    "    :return: DataFrame of predictions\n",
    "    '''\n",
    "    \n",
    "    # variable to hold all of the datasets that will be created from the application of k-fold cross validation on the training set\n",
    "    dfs = []\n",
    "    \n",
    "    # list of tuples holding the name and class for each classifier to be tested\n",
    "    models = [('LogReg', LogisticRegression()), \n",
    "              ('RF', RandomForestClassifier()),\n",
    "              ('KNN', KNeighborsClassifier()),\n",
    "              ('SVM', SVC()), \n",
    "              ('GNB', GaussianNB())\n",
    "             ]\n",
    "\n",
    "    results = []\n",
    "    names = []\n",
    "    scoring = ['accuracy', 'precision_weighted', 'recall_weighted', 'f1_weighted', 'roc_auc']\n",
    "\n",
    "    for name, model in models:\n",
    "\n",
    "      kfold = model_selection.KFold(n_splits=5, shuffle=True, random_state=90210)\n",
    "      cv_results = model_selection.cross_validate(model, X_train, y_train, cv=kfold, scoring=scoring)\n",
    "\n",
    "      clf = model.fit(X_train, y_train)\n",
    "      y_pred = clf.predict(X_test)\n",
    "\n",
    "      print(name)\n",
    "      print(classification_report(y_test, y_pred))\n",
    "\n",
    "      results.append(cv_results)\n",
    "      names.append(name)\n",
    "\n",
    "      this_df = pd.DataFrame(cv_results)\n",
    "      this_df['model'] = name\n",
    "      dfs.append(this_df)\n",
    "      final = pd.concat(dfs, ignore_index=True)\n",
    "\n",
    "    return final"
   ]
  },
  {
   "cell_type": "code",
   "execution_count": 94,
   "metadata": {},
   "outputs": [
    {
     "name": "stdout",
     "output_type": "stream",
     "text": [
      "LogReg\n",
      "              precision    recall  f1-score   support\n",
      "\n",
      "           0       0.69      0.77      0.73       298\n",
      "           1       0.71      0.63      0.67       273\n",
      "\n",
      "    accuracy                           0.70       571\n",
      "   macro avg       0.70      0.70      0.70       571\n",
      "weighted avg       0.70      0.70      0.70       571\n",
      "\n",
      "RF\n",
      "              precision    recall  f1-score   support\n",
      "\n",
      "           0       0.82      0.84      0.83       298\n",
      "           1       0.82      0.81      0.81       273\n",
      "\n",
      "    accuracy                           0.82       571\n",
      "   macro avg       0.82      0.82      0.82       571\n",
      "weighted avg       0.82      0.82      0.82       571\n",
      "\n",
      "KNN\n",
      "              precision    recall  f1-score   support\n",
      "\n",
      "           0       0.76      0.66      0.71       298\n",
      "           1       0.68      0.78      0.72       273\n",
      "\n",
      "    accuracy                           0.71       571\n",
      "   macro avg       0.72      0.72      0.71       571\n",
      "weighted avg       0.72      0.71      0.71       571\n",
      "\n",
      "SVM\n",
      "              precision    recall  f1-score   support\n",
      "\n",
      "           0       0.80      0.79      0.79       298\n",
      "           1       0.77      0.78      0.77       273\n",
      "\n",
      "    accuracy                           0.78       571\n",
      "   macro avg       0.78      0.78      0.78       571\n",
      "weighted avg       0.78      0.78      0.78       571\n",
      "\n",
      "GNB\n",
      "              precision    recall  f1-score   support\n",
      "\n",
      "           0       0.79      0.82      0.81       298\n",
      "           1       0.80      0.77      0.78       273\n",
      "\n",
      "    accuracy                           0.80       571\n",
      "   macro avg       0.80      0.79      0.79       571\n",
      "weighted avg       0.80      0.80      0.79       571\n",
      "\n"
     ]
    }
   ],
   "source": [
    "final = run_exps(x_train, y_train, x_test, y_test)"
   ]
  },
  {
   "cell_type": "code",
   "execution_count": 95,
   "metadata": {},
   "outputs": [
    {
     "data": {
      "text/plain": [
       "['scaler1.joblib']"
      ]
     },
     "execution_count": 95,
     "metadata": {},
     "output_type": "execute_result"
    }
   ],
   "source": [
    "# pickle.dump(clf,open('model1.pkl','wb'))\n",
    "# pickle.dump(scaler,open('scaler1.pkl','wb'))\n",
    "# Save model and scaler\n",
    "joblib.dump(clf, 'model1.joblib')\n",
    "joblib.dump(scaler, 'scaler1.joblib')"
   ]
  },
  {
   "cell_type": "code",
   "execution_count": 96,
   "metadata": {},
   "outputs": [
    {
     "name": "stderr",
     "output_type": "stream",
     "text": [
      "c:\\Users\\Admin\\AppData\\Local\\Programs\\Python\\Python310\\lib\\site-packages\\sklearn\\base.py:493: UserWarning: X does not have valid feature names, but RandomForestClassifier was fitted with feature names\n",
      "  warnings.warn(\n"
     ]
    },
    {
     "data": {
      "text/plain": [
       "array([0], dtype=int64)"
      ]
     },
     "execution_count": 96,
     "metadata": {},
     "output_type": "execute_result"
    }
   ],
   "source": [
    "clf.predict([[.4,.9,.2,.3,1,1,0,.9,.9,.5,2,1,1]])"
   ]
  },
  {
   "cell_type": "code",
   "execution_count": null,
   "metadata": {},
   "outputs": [],
   "source": []
  }
 ],
 "metadata": {
  "kernelspec": {
   "display_name": "Python 3 (ipykernel)",
   "language": "python",
   "name": "python3"
  },
  "language_info": {
   "codemirror_mode": {
    "name": "ipython",
    "version": 3
   },
   "file_extension": ".py",
   "mimetype": "text/x-python",
   "name": "python",
   "nbconvert_exporter": "python",
   "pygments_lexer": "ipython3",
   "version": "3.10.0"
  },
  "vscode": {
   "interpreter": {
    "hash": "a42ccb73e7d9bfdf27e036f1d2b8b681e55fc0743cc5586bc2474d4a60f4b886"
   }
  }
 },
 "nbformat": 4,
 "nbformat_minor": 2
}
